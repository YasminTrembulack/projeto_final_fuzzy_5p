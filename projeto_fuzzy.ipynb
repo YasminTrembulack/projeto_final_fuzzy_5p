{
 "cells": [
  {
   "cell_type": "code",
   "execution_count": 2,
   "id": "ebc47aae",
   "metadata": {},
   "outputs": [
    {
     "name": "stdout",
     "output_type": "stream",
     "text": [
      "Requirement already satisfied: scikit-fuzzy in c:\\users\\yastr\\appdata\\local\\programs\\python\\python313\\lib\\site-packages (0.5.0)\n",
      "Note: you may need to restart the kernel to use updated packages.\n"
     ]
    },
    {
     "name": "stderr",
     "output_type": "stream",
     "text": [
      "\n",
      "[notice] A new release of pip is available: 24.3.1 -> 25.1.1\n",
      "[notice] To update, run: python.exe -m pip install --upgrade pip\n"
     ]
    }
   ],
   "source": [
    "# Instalando Bibliotecas\n",
    "%pip install scikit-fuzzy"
   ]
  },
  {
   "cell_type": "code",
   "execution_count": 3,
   "id": "959c95fd",
   "metadata": {},
   "outputs": [],
   "source": [
    "# Bibliotecas\n",
    "import numpy as np\n",
    "import skfuzzy as fuzz\n",
    "from skfuzzy import control as ctrl"
   ]
  },
  {
   "cell_type": "code",
   "execution_count": 16,
   "id": "16d263ea",
   "metadata": {},
   "outputs": [],
   "source": [
    "torque = ctrl.Antecedent(np.arange(0, 201, 1), 'torque')\n",
    "corrente_partida = ctrl.Antecedent(np.arange(0, 7, 0.1), 'corrente_partida')\n",
    "folga_mecanica = ctrl.Antecedent(np.arange(0.0, 0.060, 0.001), 'folga_mecanica')\n",
    "temperatura_ambiente = ctrl.Antecedent(np.arange(-20, 61, 1), 'temperatura_ambiente')\n",
    "ruido_acustico = ctrl.Antecedent(np.arange(0, 68, 1), 'ruido_acustico')\n",
    "\n",
    "risco_falha = ctrl.Consequent(np.arange(0, 101, 1), 'risco_falha')\n"
   ]
  },
  {
   "cell_type": "code",
   "execution_count": 17,
   "id": "b36de44d",
   "metadata": {},
   "outputs": [],
   "source": [
    "# Funções de pertinência\n",
    "torque['baixo'] = fuzz.trimf(torque.universe, [10, 25, 40])\n",
    "torque['medio'] = fuzz.trimf(torque.universe, [40, 70, 100])\n",
    "torque['alto'] = fuzz.trimf(torque.universe, [100, 150, 200])\n",
    "\n",
    "corrente_partida['baixa'] = fuzz.trimf(corrente_partida.universe, [1.5, 2.0, 2.5])\n",
    "corrente_partida['media'] = fuzz.trimf(corrente_partida.universe, [2.5, 3.5, 4.5])\n",
    "corrente_partida['alta'] = fuzz.trimf(corrente_partida.universe, [4.5, 5.25, 6.0])\n",
    "\n",
    "folga_mecanica['normal'] = fuzz.trimf(folga_mecanica.universe, [0.000, 0.030, 0.040])\n",
    "folga_mecanica['moderada'] = fuzz.trimf(folga_mecanica.universe, [0.035, 0.045, 0.050])\n",
    "folga_mecanica['excessiva'] = fuzz.trimf(folga_mecanica.universe, [0.045, 0.055, 0.060])\n",
    "\n",
    "temperatura_ambiente['baixa'] = fuzz.trimf(temperatura_ambiente.universe, [-20, -10, 0])\n",
    "temperatura_ambiente['ideal'] = fuzz.trimf(temperatura_ambiente.universe, [0, 20, 40])\n",
    "temperatura_ambiente['alta'] = fuzz.trimf(temperatura_ambiente.universe, [40, 50, 60])\n",
    "\n",
    "ruido_acustico['baixo'] = fuzz.trimf(ruido_acustico.universe, [0, 30, 50])\n",
    "ruido_acustico['aceitavel'] = fuzz.trimf(ruido_acustico.universe, [50, 58, 66])\n",
    "ruido_acustico['alto'] = fuzz.trimf(ruido_acustico.universe, [60, 66, 67])\n",
    "\n",
    "risco_falha['baixo'] = fuzz.trimf(risco_falha.universe, [0, 25, 50])\n",
    "risco_falha['medio'] = fuzz.trimf(risco_falha.universe, [40, 60, 80])\n",
    "risco_falha['alto'] = fuzz.trimf(risco_falha.universe, [70, 85, 100])"
   ]
  },
  {
   "cell_type": "code",
   "execution_count": 18,
   "id": "cd3b23a0",
   "metadata": {},
   "outputs": [],
   "source": [
    "rule1 = ctrl.Rule(torque['alto'] | folga_mecanica['excessiva'], risco_falha['alto'])\n",
    "\"\"\"Quando o torque é muito alto ou as folgas mecânicas estão excessivas, há risco de sobrecarga e desgaste estrutural, levando a um alto risco de falha no motor. Folgas excessivas são indicativo de desalinhamentos ou danos.\"\"\"\n",
    "\n",
    "rule2 = ctrl.Rule(corrente_partida['alta'] & temperatura_ambiente['alta'], risco_falha['alto'])\n",
    "\"\"\"Alta corrente de partida combinada com temperatura ambiente elevada pode gerar sobreaquecimento e estresse térmico, condições críticas que aumentam significativamente o risco de falha.\"\"\"\n",
    "\n",
    "rule3 = ctrl.Rule(corrente_partida['baixa'] & temperatura_ambiente['ideal'] & folga_mecanica['normal'], risco_falha['baixo'])\n",
    "\"\"\"Essa é uma situação ideal: baixa corrente de partida, temperatura adequada e folgas normais. O motor opera dentro de parâmetros seguros, indicando baixo risco de falha.\"\"\"\n",
    "\n",
    "rule4 = ctrl.Rule(ruido_acustico['alto'] | folga_mecanica['moderada'], risco_falha['medio'])\n",
    "\"\"\"Ruídos elevados podem indicar desgaste interno ou vibração anormal, e folgas moderadas são um alerta precoce. A combinação sugere nível médio de risco, que exige monitoramento.\"\"\"\n",
    "\n",
    "rule5 = ctrl.Rule(torque['medio'] & corrente_partida['media'] & temperatura_ambiente['ideal'], risco_falha['medio'])\n",
    "\"\"\"Mesmo que os parâmetros estejam dentro de limites aceitáveis, valores médios podem indicar carga constante e uso contínuo, o que justifica um risco moderado de falha.\"\"\"\n",
    "\n",
    "rules = [rule1, rule2, rule3, rule4, rule5]"
   ]
  },
  {
   "cell_type": "code",
   "execution_count": 19,
   "id": "d4e53db6",
   "metadata": {},
   "outputs": [
    {
     "name": "stdout",
     "output_type": "stream",
     "text": [
      "Risco de falha estimado: 60.00%\n"
     ]
    }
   ],
   "source": [
    "# Sistema de controle fuzzy\n",
    "risco_ctrl = ctrl.ControlSystem(rules)\n",
    "simulador = ctrl.ControlSystemSimulation(risco_ctrl)\n",
    "\n",
    "# Entradas corrigidas e realistas:\n",
    "simulador.input['torque'] = 85                   # dentro da faixa média\n",
    "simulador.input['corrente_partida'] = 3.5        # média\n",
    "simulador.input['folga_mecanica'] = 0.030        # normal/moderada\n",
    "simulador.input['temperatura_ambiente'] = 20     # ideal\n",
    "simulador.input['ruido_acustico'] = 55           # aceitável\n",
    "\n",
    "# Executa o sistema\n",
    "simulador.compute()\n",
    "\n",
    "# Resultado\n",
    "print(f\"Risco de falha estimado: {simulador.output['risco_falha']:.2f}%\")"
   ]
  },
  {
   "cell_type": "code",
   "execution_count": 23,
   "id": "6f6fa891",
   "metadata": {},
   "outputs": [
    {
     "name": "stdout",
     "output_type": "stream",
     "text": [
      "\n",
      "📥 Entradas:\n",
      "- Torque: 150.0 Nm\n",
      "- Corrente de partida: 5.0 x In\n",
      "- Folga mecânica: 0.020 mm\n",
      "- Temperatura ambiente: 50.0 ºC\n",
      "- Ruído acústico: 20.0 dB\n",
      "\n",
      "📊 Graus de pertinência:\n",
      "→ Torque:\n",
      "   - alto: 100.00%\n",
      "→ Corrente de partida:\n",
      "   - alta: 66.67%\n",
      "→ Folga mecânica:\n",
      "   - normal: 66.67%\n",
      "→ Temperatura ambiente:\n",
      "   - alta: 100.00%\n",
      "→ Ruído acústico:\n",
      "   - baixo: 66.67%\n",
      "\n",
      "🔍 Resultado fuzzy: Risco de Falha = 85.00%\n",
      "\n",
      "📈 Exibindo gráfico da saída...\n",
      "\n",
      "📌 Regras ativadas:\n",
      "✔ Regra 1 ativada: torque alto OU folga excessiva\n",
      "✔ Regra 2 ativada: corrente alta E temperatura alta\n"
     ]
    },
    {
     "name": "stderr",
     "output_type": "stream",
     "text": [
      "c:\\Users\\yastr\\AppData\\Local\\Programs\\Python\\Python313\\Lib\\site-packages\\skfuzzy\\control\\fuzzyvariable.py:125: UserWarning: FigureCanvasAgg is non-interactive, and thus cannot be shown\n",
      "  fig.show()\n"
     ]
    },
    {
     "data": {
      "image/png": "[encoded data removed]",
      "text/plain": [
       "<Figure size 640x480 with 1 Axes>"
      ]
     },
     "metadata": {},
     "output_type": "display_data"
    }
   ],
   "source": [
    "def regras_ativas_motor():\n",
    "    try:\n",
    "        # Entradas manuais\n",
    "        torque_val = float(input(\"Torque (Nm - 0 a 200): \"))\n",
    "        corrente_val = float(input(\"Corrente de partida (multiplo da In - 0 a 6): \"))\n",
    "        folga_val = float(input(\"Folga mecânica (mm - 0.000 a 0.060): \"))\n",
    "        temp_val = float(input(\"Temperatura ambiente (ºC - -20 a 60): \"))\n",
    "        ruido_val = float(input(\"Ruído acústico (dB - 0 a 67): \"))\n",
    "\n",
    "        # Validação básica\n",
    "        if not (0 <= torque_val <= 200 and 0 <= corrente_val <= 6 and 0 <= folga_val <= 0.060 and\n",
    "                -20 <= temp_val <= 60 and 0 <= ruido_val <= 67):\n",
    "            print(\"⚠ Um ou mais valores estão fora dos limites permitidos.\")\n",
    "            return\n",
    "\n",
    "        # Mostrar valores informados\n",
    "        print(f\"\\n📥 Entradas:\")\n",
    "        print(f\"- Torque: {torque_val} Nm\")\n",
    "        print(f\"- Corrente de partida: {corrente_val} x In\")\n",
    "        print(f\"- Folga mecânica: {folga_val:.3f} mm\")\n",
    "        print(f\"- Temperatura ambiente: {temp_val} ºC\")\n",
    "        print(f\"- Ruído acústico: {ruido_val} dB\")\n",
    "\n",
    "        # Mostrar graus de pertinência\n",
    "        print(\"\\n📊 Graus de pertinência:\")\n",
    "\n",
    "        print(\"→ Torque:\")\n",
    "        for termo in torque.terms:\n",
    "            grau = fuzz.interp_membership(torque.universe, torque[termo].mf, torque_val)\n",
    "            if grau > 0:\n",
    "                print(f\"   - {termo}: {grau:.2%}\")\n",
    "\n",
    "        print(\"→ Corrente de partida:\")\n",
    "        for termo in corrente_partida.terms:\n",
    "            grau = fuzz.interp_membership(corrente_partida.universe, corrente_partida[termo].mf, corrente_val)\n",
    "            if grau > 0:\n",
    "                print(f\"   - {termo}: {grau:.2%}\")\n",
    "\n",
    "        print(\"→ Folga mecânica:\")\n",
    "        for termo in folga_mecanica.terms:\n",
    "            grau = fuzz.interp_membership(folga_mecanica.universe, folga_mecanica[termo].mf, folga_val)\n",
    "            if grau > 0:\n",
    "                print(f\"   - {termo}: {grau:.2%}\")\n",
    "\n",
    "        print(\"→ Temperatura ambiente:\")\n",
    "        for termo in temperatura_ambiente.terms:\n",
    "            grau = fuzz.interp_membership(temperatura_ambiente.universe, temperatura_ambiente[termo].mf, temp_val)\n",
    "            if grau > 0:\n",
    "                print(f\"   - {termo}: {grau:.2%}\")\n",
    "\n",
    "        print(\"→ Ruído acústico:\")\n",
    "        for termo in ruido_acustico.terms:\n",
    "            grau = fuzz.interp_membership(ruido_acustico.universe, ruido_acustico[termo].mf, ruido_val)\n",
    "            if grau > 0:\n",
    "                print(f\"   - {termo}: {grau:.2%}\")\n",
    "\n",
    "        # Inserir no sistema fuzzy\n",
    "        simulador.input['torque'] = torque_val\n",
    "        simulador.input['corrente_partida'] = corrente_val\n",
    "        simulador.input['folga_mecanica'] = folga_val\n",
    "        simulador.input['temperatura_ambiente'] = temp_val\n",
    "        simulador.input['ruido_acustico'] = ruido_val\n",
    "\n",
    "        # Computar resultado\n",
    "        simulador.compute()\n",
    "\n",
    "        # Resultado\n",
    "        resultado = simulador.output['risco_falha']\n",
    "        print(f\"\\n🔍 Resultado fuzzy: Risco de Falha = {resultado:.2f}%\")\n",
    "\n",
    "        # Exibir gráfico da saída\n",
    "        print(\"\\n📈 Exibindo gráfico da saída...\")\n",
    "        risco_falha.view(sim=simulador)\n",
    "\n",
    "        # Verificação de quais regras foram ativadas\n",
    "        print(\"\\n📌 Regras ativadas:\")\n",
    "\n",
    "        if fuzz.interp_membership(torque.universe, torque['alto'].mf, torque_val) > 0 or \\\n",
    "           fuzz.interp_membership(folga_mecanica.universe, folga_mecanica['excessiva'].mf, folga_val) > 0:\n",
    "            print(\"✔ Regra 1 ativada: torque alto OU folga excessiva\")\n",
    "\n",
    "        if fuzz.interp_membership(corrente_partida.universe, corrente_partida['alta'].mf, corrente_val) > 0 and \\\n",
    "           fuzz.interp_membership(temperatura_ambiente.universe, temperatura_ambiente['alta'].mf, temp_val) > 0:\n",
    "            print(\"✔ Regra 2 ativada: corrente alta E temperatura alta\")\n",
    "\n",
    "        if fuzz.interp_membership(corrente_partida.universe, corrente_partida['baixa'].mf, corrente_val) > 0 and \\\n",
    "           fuzz.interp_membership(temperatura_ambiente.universe, temperatura_ambiente['ideal'].mf, temp_val) > 0 and \\\n",
    "           fuzz.interp_membership(folga_mecanica.universe, folga_mecanica['normal'].mf, folga_val) > 0:\n",
    "            print(\"✔ Regra 3 ativada: corrente baixa E temperatura ideal E folga normal\")\n",
    "\n",
    "        if fuzz.interp_membership(ruido_acustico.universe, ruido_acustico['alto'].mf, ruido_val) > 0 or \\\n",
    "           fuzz.interp_membership(folga_mecanica.universe, folga_mecanica['moderada'].mf, folga_val) > 0:\n",
    "            print(\"✔ Regra 4 ativada: ruído alto OU folga moderada\")\n",
    "\n",
    "        if fuzz.interp_membership(torque.universe, torque['medio'].mf, torque_val) > 0 and \\\n",
    "           fuzz.interp_membership(corrente_partida.universe, corrente_partida['media'].mf, corrente_val) > 0 and \\\n",
    "           fuzz.interp_membership(temperatura_ambiente.universe, temperatura_ambiente['ideal'].mf, temp_val) > 0:\n",
    "            print(\"✔ Regra 5 ativada: torque médio E corrente média E temperatura ideal\")\n",
    "\n",
    "    except Exception as e:\n",
    "        print(f\"❌ Erro: {e}\")\n",
    "regras_ativas_motor()"
   ]
  }
 ],
 "metadata": {
  "kernelspec": {
   "display_name": "Python 3",
   "language": "python",
   "name": "python3"
  },
  "language_info": {
   "codemirror_mode": {
    "name": "ipython",
    "version": 3
   },
   "file_extension": ".py",
   "mimetype": "text/x-python",
   "name": "python",
   "nbconvert_exporter": "python",
   "pygments_lexer": "ipython3",
   "version": "3.13.1"
  }
 },
 "nbformat": 4,
 "nbformat_minor": 5
}
